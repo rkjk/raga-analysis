{
 "cells": [
  {
   "cell_type": "code",
   "execution_count": 25,
   "id": "091d9878",
   "metadata": {},
   "outputs": [],
   "source": [
    "import random\n",
    "import os\n",
    "import csv\n",
    "from dataclasses import dataclass\n",
    "\n",
    "import torch\n",
    "import torch.nn.functional as F\n",
    "import matplotlib.pyplot as plt # for making figures\n",
    "%matplotlib inline"
   ]
  },
  {
   "cell_type": "code",
   "execution_count": 2,
   "id": "1d52b285",
   "metadata": {},
   "outputs": [
    {
     "name": "stdout",
     "output_type": "stream",
     "text": [
      "Using 32 threads\n",
      "Using device cuda:0\n"
     ]
    }
   ],
   "source": [
    "# Set device and CPU threads\n",
    "from multiprocessing import cpu_count\n",
    "torch.set_num_threads(cpu_count())\n",
    "print(f'Using {torch.get_num_threads()} threads')\n",
    "device = torch.device(\"cuda:0\" if torch.cuda.is_available() else \"cpu\")\n",
    "print(f'Using device {device}')"
   ]
  },
  {
   "cell_type": "code",
   "execution_count": 15,
   "id": "c5c96677",
   "metadata": {},
   "outputs": [],
   "source": [
    "# Tokenizer\n",
    "NOTES = ['C', 'C#', 'D', 'D#', 'E', 'F', 'F#', 'G', 'G#', 'A', 'A#', 'B']\n",
    "NOT_VOICE_TOKEN = '<N>'\n",
    "END_OF_FILE_TOKEN = '<EOF>'\n",
    "\n",
    "ALLOWED_TOKENS = []\n",
    "for octave in [2,3,4,5]:\n",
    "    o = str(octave)\n",
    "    for n in NOTES:\n",
    "        ALLOWED_TOKENS.append(n+o)\n",
    "\n",
    "stoi = {s:i+1 for i,s in enumerate(ALLOWED_TOKENS)}\n",
    "stoi[NOT_VOICE_TOKEN] = 0\n",
    "itos = {i:s for s,i in stoi.items()}\n",
    "vocab_size = len(itos)"
   ]
  },
  {
   "cell_type": "code",
   "execution_count": 4,
   "id": "071a1094",
   "metadata": {},
   "outputs": [],
   "source": [
    "# 30 seconds of data + around 87 pitch readings per second = 2610 -> make it 2700\n",
    "BLOCK_SIZE = 87 * 30 + 90"
   ]
  },
  {
   "cell_type": "code",
   "execution_count": 17,
   "id": "c66fe703",
   "metadata": {},
   "outputs": [],
   "source": [
    "# CLASS NAMES - NOTE: Do not change numbering.\n",
    "CLASS_NAMES = {\n",
    "    'saveri': 0,\n",
    "    'hemavati': 1\n",
    "}"
   ]
  },
  {
   "cell_type": "code",
   "execution_count": 20,
   "id": "6b3197c9",
   "metadata": {},
   "outputs": [],
   "source": [
    "@dataclass\n",
    "class PitchDataFile:\n",
    "    file_path: str\n",
    "    pitches: list\n",
    "    "
   ]
  },
  {
   "cell_type": "code",
   "execution_count": 27,
   "id": "176cf763",
   "metadata": {},
   "outputs": [
    {
     "name": "stdout",
     "output_type": "stream",
     "text": [
      "processing ../../data/simple-test/pitch_data/hemavati/aruna-hemavati_F3\n",
      "processing ../../data/simple-test/pitch_data/hemavati/aruna-hemavati_F3_plus_3\n",
      "processing ../../data/simple-test/pitch_data/hemavati/aruna-hemavati_F3_minus_1\n",
      "processing ../../data/simple-test/pitch_data/hemavati/aruna-hemavati_F3_minus_2\n",
      "processing ../../data/simple-test/pitch_data/hemavati/aruna-hemavati_F3_plus_2\n",
      "processing ../../data/simple-test/pitch_data/hemavati/aruna-hemavati_F3_plus_1\n",
      "processing ../../data/simple-test/pitch_data/saveri/tmk-saveri_D3_plus_2\n",
      "processing ../../data/simple-test/pitch_data/saveri/tmk-saveri_D3_plus_3\n",
      "processing ../../data/simple-test/pitch_data/saveri/tmk-saveri_D3_plus_1\n",
      "processing ../../data/simple-test/pitch_data/saveri/tmk-saveri_D3\n",
      "processing ../../data/simple-test/pitch_data/saveri/tmk-saveri_D3_minus_2\n",
      "processing ../../data/simple-test/pitch_data/saveri/tmk-saveri_D3_minus_1\n",
      "Total data: 1844748\n"
     ]
    }
   ],
   "source": [
    "# For initial tests, keep entire data in memory. Keep only the pitch list.\n",
    "pitch_data_dir = '../../data/simple-test/pitch_data'\n",
    "\n",
    "X = []\n",
    "pitch_data = {}\n",
    "\n",
    "for class_name in os.listdir(pitch_data_dir):\n",
    "    if class_name not in CLASS_NAMES:\n",
    "        print(f'{class_name} not included for training')\n",
    "        continue\n",
    "    class_dir = os.path.join(pitch_data_dir, class_name)\n",
    "    for file_name in os.listdir(class_dir):\n",
    "        file_path = os.path.join(class_dir, file_name)\n",
    "        data = []\n",
    "        print(f'processing {file_path}')\n",
    "        with open(file_path, 'r') as file:\n",
    "            reader = csv.reader(file)\n",
    "            for row in reader:\n",
    "                if len(row) >= 3:\n",
    "                    data.append(row[2])\n",
    "            pd = PitchDataFile(file_path=file_path, pitches=data)\n",
    "            sampling_data = [(file_path, i, CLASS_NAMES[class_name]) for i in range(len(data) - BLOCK_SIZE - 1)]\n",
    "            X.extend(sampling_data)\n",
    "            pitch_data[file_path] = pd\n",
    "\n",
    "print(f'Total data: {len(X)}')"
   ]
  },
  {
   "cell_type": "code",
   "execution_count": 31,
   "id": "a2ce07c0",
   "metadata": {},
   "outputs": [
    {
     "name": "stdout",
     "output_type": "stream",
     "text": [
      "Xtrain size: 1475798, Ytrain size: 1475798\n",
      "Xdev size: 184474, Ydev size: 184474\n",
      "Xtest size: 184476, Ytest size: 184476\n"
     ]
    }
   ],
   "source": [
    "random.shuffle(X)\n",
    "train_size = int(0.8 * len(X))\n",
    "dev_size = int(0.1 * len(X))\n",
    "\n",
    "# Split the data\n",
    "train = X[:train_size]\n",
    "dev = X[train_size:train_size + dev_size]\n",
    "test = X[train_size + dev_size:]\n",
    "\n",
    "Xtrain, Ytrain = [tuple(t[:2]) for t in train], [t[2] for t in train]\n",
    "Xdev, Ydev = [tuple(t[:2]) for t in dev], [t[2] for t in dev]\n",
    "Xtest, Ytest = [tuple(t[:2]) for t in test], [t[2] for t in test]\n",
    "\n",
    "print(f'Xtrain size: {len(Xtrain)}, Ytrain size: {len(Ytrain)}')\n",
    "print(f'Xdev size: {len(Xdev)}, Ydev size: {len(Ydev)}')\n",
    "print(f'Xtest size: {len(Xtest)}, Ytest size: {len(Ytest)}')"
   ]
  },
  {
   "cell_type": "code",
   "execution_count": 34,
   "id": "a27d1508",
   "metadata": {
    "scrolled": true
   },
   "outputs": [
    {
     "name": "stdout",
     "output_type": "stream",
     "text": [
      "[('../../data/simple-test/pitch_data/hemavati/aruna-hemavati_F3_minus_2', 16920), ('../../data/simple-test/pitch_data/hemavati/aruna-hemavati_F3_plus_3', 9673)]\n",
      "[1, 1]\n"
     ]
    }
   ],
   "source": [
    "print(Xtrain[2:4])\n",
    "print(Ytrain[2:4])"
   ]
  },
  {
   "cell_type": "code",
   "execution_count": 35,
   "id": "c340391d",
   "metadata": {},
   "outputs": [
    {
     "data": {
      "text/plain": [
       "['               total        used        free      shared  buff/cache   available',\n",
       " 'Mem:           63474        8739       50357         162        5243       54734',\n",
       " 'Swap:           2047           0        2047']"
      ]
     },
     "execution_count": 35,
     "metadata": {},
     "output_type": "execute_result"
    }
   ],
   "source": []
  },
  {
   "cell_type": "code",
   "execution_count": null,
   "id": "b3e5bcdb",
   "metadata": {},
   "outputs": [],
   "source": []
  }
 ],
 "metadata": {
  "kernelspec": {
   "display_name": "Python 3 (ipykernel)",
   "language": "python",
   "name": "python3"
  },
  "language_info": {
   "codemirror_mode": {
    "name": "ipython",
    "version": 3
   },
   "file_extension": ".py",
   "mimetype": "text/x-python",
   "name": "python",
   "nbconvert_exporter": "python",
   "pygments_lexer": "ipython3",
   "version": "3.12.3"
  }
 },
 "nbformat": 4,
 "nbformat_minor": 5
}
